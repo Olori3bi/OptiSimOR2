{
 "cells": [
  {
   "cell_type": "markdown",
   "metadata": {},
   "source": [
    "# 🔁 Markov Chain Simulation\n",
    "This notebook demonstrates how to simulate and visualize discrete-time Markov Chains using transition matrices."
   ]
  },
  {
   "cell_type": "markdown",
   "metadata": {},
   "source": [
    "## ✅ Step 1: Define the Transition Matrix and States"
   ]
  },
  {
   "cell_type": "code",
   "execution_count": null,
   "metadata": {},
   "outputs": [],
   "source": [
    "import numpy as np\n",
    "\n",
    "# Example: 3-state system\n",
    "states = ['Sunny', 'Cloudy', 'Rainy']\n",
    "P = np.array([\n",
    "    [0.8, 0.15, 0.05],  # Sunny to S, C, R\n",
    "    [0.2, 0.6, 0.2],    # Cloudy to S, C, R\n",
    "    [0.3, 0.3, 0.4]     # Rainy to S, C, R\n",
    "])\n",
    "\n",
    "print(\"Transition Matrix P:\")\n",
    "print(P)"
   ]
  },
  {
   "cell_type": "markdown",
   "metadata": {},
   "source": [
    "## 🔄 Step 2: Simulate the Markov Chain"
   ]
  },
  {
   "cell_type": "code",
   "execution_count": null,
   "metadata": {},
   "outputs": [],
   "source": [
    "np.random.seed(0)\n",
    "n_steps = 50\n",
    "current_state = 0  # Start at 'Sunny'\n",
    "state_sequence = [current_state]\n",
    "\n",
    "for _ in range(n_steps - 1):\n",
    "    current_state = np.random.choice([0, 1, 2], p=P[current_state])\n",
    "    state_sequence.append(current_state)\n",
    "\n",
    "named_sequence = [states[i] for i in state_sequence]\n",
    "print(named_sequence)"
   ]
  },
  {
   "cell_type": "markdown",
   "metadata": {},
   "source": [
    "## 📊 Step 3: Visualize State Frequency"
   ]
  },
  {
   "cell_type": "code",
   "execution_count": null,
   "metadata": {},
   "outputs": [],
   "source": [
    "import matplotlib.pyplot as plt\n",
    "\n",
    "unique, counts = np.unique(state_sequence, return_counts=True)\n",
    "freqs = counts / n_steps\n",
    "\n",
    "plt.bar([states[i] for i in unique], freqs, color='skyblue', edgecolor='black')\n",
    "plt.title(\"State Frequencies over Time\")\n",
    "plt.ylabel(\"Frequency\")\n",
    "plt.xlabel(\"State\")\n",
    "plt.grid(True)\n",
    "plt.show()"
   ]
  }
 ],
 "metadata": {
  "kernelspec": {
   "display_name": "Python 3",
   "language": "python",
   "name": "python3"
  },
  "language_info": {
   "name": "python",
   "version": ""
  }
 },
 "nbformat": 4,
 "nbformat_minor": 2
}
