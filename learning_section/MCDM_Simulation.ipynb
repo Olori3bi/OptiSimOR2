{
 "cells": [
  {
   "cell_type": "markdown",
   "id": "b18f3da6",
   "metadata": {},
   "source": [
    "# Multi-Criteria Decision Making (MCDM) Simulation\n"
   ]
  },
  {
   "cell_type": "markdown",
   "id": "b1ad02cc",
   "metadata": {},
   "source": [
    "This notebook demonstrates **MCDM** methods such as:\n",
    "\n",
    "- Weighted Sum Model (WSM)\n",
    "- Analytic Hierarchy Process (AHP)\n",
    "- Technique for Order of Preference by Similarity to Ideal Solution (TOPSIS)\n",
    "\n",
    "We will simulate a small example where three suppliers are evaluated on multiple criteria."
   ]
  },
  {
   "cell_type": "code",
   "execution_count": null,
   "id": "2655bf69",
   "metadata": {},
   "outputs": [],
   "source": [
    "import numpy as np\n",
    "import pandas as pd"
   ]
  },
  {
   "cell_type": "code",
   "execution_count": null,
   "id": "13bba304",
   "metadata": {},
   "outputs": [],
   "source": [
    "# Example: Supplier selection\n",
    "# Criteria: Cost (min), Quality (max), Delivery Speed (max)\n",
    "criteria = ['Cost', 'Quality', 'Delivery Speed']\n",
    "weights = np.array([0.4, 0.35, 0.25])  # sum to 1\n",
    "\n",
    "# Scores (Cost in $, Quality in 1-10, Speed in days)\n",
    "data = pd.DataFrame({\n",
    "    'Supplier A': [2500, 8, 5],\n",
    "    'Supplier B': [3000, 9, 4],\n",
    "    'Supplier C': [2000, 7, 6]\n",
    "}, index=criteria)\n",
    "\n",
    "data"
   ]
  },
  {
   "cell_type": "code",
   "execution_count": null,
   "id": "3e3fb2fa",
   "metadata": {},
   "outputs": [],
   "source": [
    "# Normalize scores (cost is a minimization criterion)\n",
    "norm_data = data.copy()\n",
    "norm_data.loc['Cost'] = data.loc['Cost'].min() / data.loc['Cost']\n",
    "norm_data.loc['Quality'] = data.loc['Quality'] / data.loc['Quality'].max()\n",
    "norm_data.loc['Delivery Speed'] = data.loc['Delivery Speed'].min() / data.loc['Delivery Speed']\n",
    "\n",
    "# Weighted sum score\n",
    "wsm_scores = norm_data.T.dot(weights)\n",
    "wsm_scores.sort_values(ascending=False)"
   ]
  },
  {
   "cell_type": "code",
   "execution_count": null,
   "id": "bd470556",
   "metadata": {},
   "outputs": [],
   "source": [
    "# TOPSIS Implementation\n",
    "# Step 1: Normalize the decision matrix\n",
    "R = data.copy()\n",
    "for i, crit in enumerate(criteria):\n",
    "    if crit == 'Cost' or crit == 'Delivery Speed':  # lower is better\n",
    "        R.loc[crit] = 1 / data.loc[crit]\n",
    "    else:\n",
    "        R.loc[crit] = data.loc[crit]\n",
    "    R.loc[crit] = R.loc[crit] / np.sqrt((R.loc[crit] ** 2).sum())\n",
    "\n",
    "# Step 2: Weight the normalized matrix\n",
    "V = R * weights[:, None]\n",
    "\n",
    "# Step 3: Identify ideal and negative-ideal solutions\n",
    "ideal = V.max(axis=1)\n",
    "negative_ideal = V.min(axis=1)\n",
    "\n",
    "# Step 4: Calculate distances to ideal and negative-ideal\n",
    "d_pos = np.sqrt(((V.T - ideal) ** 2).sum(axis=1))\n",
    "d_neg = np.sqrt(((V.T - negative_ideal) ** 2).sum(axis=1))\n",
    "\n",
    "# Step 5: Calculate TOPSIS score\n",
    "topsis_score = d_neg / (d_pos + d_neg)\n",
    "topsis_score.sort_values(ascending=False)"
   ]
  }
 ],
 "metadata": {},
 "nbformat": 4,
 "nbformat_minor": 5
}
