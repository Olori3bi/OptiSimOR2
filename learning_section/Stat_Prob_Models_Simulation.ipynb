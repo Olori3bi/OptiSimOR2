{
 "cells": [
  {
   "cell_type": "markdown",
   "id": "d72dbbc7",
   "metadata": {},
   "source": [
    "# Statistical & Probability Models Simulation\n",
    "This notebook covers hypothesis testing, estimation, confidence intervals, and probability distributions."
   ]
  },
  {
   "cell_type": "code",
   "execution_count": null,
   "id": "faab407f",
   "metadata": {},
   "outputs": [],
   "source": [
    "import numpy as np\n",
    "import pandas as pd\n",
    "import matplotlib.pyplot as plt\n",
    "from scipy import stats"
   ]
  },
  {
   "cell_type": "markdown",
   "id": "4c78cb56",
   "metadata": {},
   "source": [
    "## Hypothesis Testing Example (One-sample t-test)"
   ]
  },
  {
   "cell_type": "code",
   "execution_count": null,
   "id": "d1195ffe",
   "metadata": {},
   "outputs": [],
   "source": [
    "# Generate sample data\n",
    "np.random.seed(0)\n",
    "data = np.random.normal(loc=50, scale=5, size=30)\n",
    "\n",
    "# H0: mean = 50\n",
    "# H1: mean != 50\n",
    "\n",
    "stat, p = stats.ttest_1samp(data, popmean=50)\n",
    "print(f'Test statistic: {stat:.4f}, p-value: {p:.4f}')"
   ]
  },
  {
   "cell_type": "markdown",
   "id": "9314de4d",
   "metadata": {},
   "source": [
    "## Confidence Interval for Mean"
   ]
  },
  {
   "cell_type": "code",
   "execution_count": null,
   "id": "4eae7d4b",
   "metadata": {},
   "outputs": [],
   "source": [
    "mean = np.mean(data)\n",
    "sem = stats.sem(data)\n",
    "confidence = 0.95\n",
    "ci = stats.t.interval(confidence, len(data)-1, loc=mean, scale=sem)\n",
    "print(f'95% CI for mean: {ci}')"
   ]
  },
  {
   "cell_type": "markdown",
   "id": "7d579f9f",
   "metadata": {},
   "source": [
    "## Probability Distributions Visualization"
   ]
  },
  {
   "cell_type": "code",
   "execution_count": null,
   "id": "fb692cda",
   "metadata": {},
   "outputs": [],
   "source": [
    "x = np.linspace(-4, 4, 100)\n",
    "plt.plot(x, stats.norm.pdf(x, 0, 1), label='Normal(0,1)')\n",
    "\n",
    "x_binom = np.arange(0, 11)\n",
    "plt.bar(x_binom, stats.binom.pmf(x_binom, 10, 0.5), alpha=0.6, label='Binomial(10,0.5)')\n",
    "\n",
    "x_pois = np.arange(0, 11)\n",
    "plt.bar(x_pois, stats.poisson.pmf(x_pois, 3), alpha=0.6, label='Poisson(3)')\n",
    "\n",
    "x_exp = np.linspace(0, 4, 100)\n",
    "plt.plot(x_exp, stats.expon.pdf(x_exp, scale=1), label='Exponential(λ=1)')\n",
    "\n",
    "plt.legend()\n",
    "plt.title('Common Probability Distributions')\n",
    "plt.show()"
   ]
  },
  {
   "cell_type": "markdown",
   "id": "d0fb3466",
   "metadata": {},
   "source": [
    "## Parameter Estimation Example (MLE for Normal distribution)"
   ]
  },
  {
   "cell_type": "code",
   "execution_count": null,
   "id": "2ef94c25",
   "metadata": {},
   "outputs": [],
   "source": [
    "mu_hat, sigma_hat = stats.norm.fit(data)\n",
    "print(f'MLE Estimated mean: {mu_hat:.2f}, std dev: {sigma_hat:.2f}')"
   ]
  }
 ],
 "metadata": {},
 "nbformat": 4,
 "nbformat_minor": 5
}
