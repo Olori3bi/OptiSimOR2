{
 "cells": [
  {
   "cell_type": "markdown",
   "id": "091f55d4",
   "metadata": {},
   "source": [
    "# Martingales Simulation\n",
    "\n",
    "Simulate symmetric random walks and verify martingale properties."
   ]
  },
  {
   "cell_type": "code",
   "execution_count": null,
   "id": "e941cffe",
   "metadata": {},
   "outputs": [],
   "source": [
    "import numpy as np\n",
    "import matplotlib.pyplot as plt\n",
    "\n",
    "# Parameters\n",
    "n_paths = 6\n",
    "n_steps = 500\n",
    "np.random.seed(0)\n",
    "\n",
    "# Simulate symmetric random walk: steps of +1/-1 with equal probability\n",
    "paths = np.cumsum(np.random.choice([-1, 1], size=(n_paths, n_steps)), axis=1)\n",
    "\n",
    "# Prepend zero as starting point\n",
    "paths = np.hstack([np.zeros((n_paths, 1)), paths])\n",
    "\n",
    "# Plot sample paths\n",
    "plt.figure(figsize=(10,6))\n",
    "for i in range(n_paths):\n",
    "    plt.plot(paths[i], label=f'Path {i+1}')\n",
    "plt.title('Symmetric Random Walk Sample Paths')\n",
    "plt.xlabel('Step')\n",
    "plt.ylabel('Position')\n",
    "plt.legend()\n",
    "plt.grid(True)\n",
    "plt.show()"
   ]
  },
  {
   "cell_type": "markdown",
   "id": "e5f820ce",
   "metadata": {},
   "source": [
    "## Empirical Martingale Check\n",
    "Compute conditional expectations approximation: E[X_{t+1} | X_t] ≈ X_t by averaging across paths."
   ]
  },
  {
   "cell_type": "code",
   "execution_count": null,
   "id": "c1493c06",
   "metadata": {},
   "outputs": [],
   "source": [
    "# Empirical check: for each time t, compute mean of X_{t+1} across paths given X_t values\n",
    "n_steps_total = paths.shape[1]\n",
    "means = []\n",
    "for t in range(n_steps_total-1):\n",
    "    means.append(paths[:, t+1].mean())\n",
    "\n",
    "# Compare means to mean at time t\n",
    "means = np.array(means)\n",
    "mean_at_t = paths[:, :n_steps_total-1].mean(axis=0)\n",
    "\n",
    "import pandas as pd\n",
    "pd.DataFrame({'mean(X_{t})': mean_at_t, 'mean(X_{t+1})': means}).head()"
   ]
  },
  {
   "cell_type": "markdown",
   "id": "f65888b7",
   "metadata": {},
   "source": [
    "## Optional Sampling Example (Stopping Time)\n",
    "Simulate stopping when absolute position reaches a threshold and observe stopping values."
   ]
  },
  {
   "cell_type": "code",
   "execution_count": null,
   "id": "f72e1f90",
   "metadata": {},
   "outputs": [],
   "source": [
    "threshold = 10\n",
    "stopping_values = []\n",
    "for i in range(n_paths):\n",
    "    path = paths[i]\n",
    "    # find first index where abs(position) >= threshold\n",
    "    idx = np.where(np.abs(path) >= threshold)[0]\n",
    "    if len(idx) > 0:\n",
    "        stopping_values.append(path[idx[0]])\n",
    "    else:\n",
    "        stopping_values.append(path[-1])\n",
    "\n",
    "print('Stopping values (or last value if threshold not reached):', stopping_values)\n",
    "print('Mean stopping value:', np.mean(stopping_values))"
   ]
  }
 ],
 "metadata": {},
 "nbformat": 4,
 "nbformat_minor": 5
}
