{
 "cells": [
  {
   "cell_type": "markdown",
   "metadata": {},
   "source": [
    "# ⚙️ Line Balancing Simulation\n",
    "Methods: Largest Candidate Rule (LCR) and Ranked Positional Weight (RPW)"
   ]
  },
  {
   "cell_type": "code",
   "execution_count": null,
   "metadata": {},
   "outputs": [],
   "source": [
    "import pandas as pd\n",
    "\n",
    "# Example task data\n",
    "tasks = pd.DataFrame({\n",
    "    'Task': list('ABCDEFG'),\n",
    "    'Time': [5, 7, 3, 2, 4, 6, 5],\n",
    "    'Predecessors': [None, 'A', 'A', 'B', 'B', 'C', 'D']\n",
    "})\n",
    "\n",
    "cycle_time = 10  # minutes\n",
    "\n",
    "print('--- Task Data ---')\n",
    "print(tasks)"
   ]
  },
  {
   "cell_type": "markdown",
   "metadata": {},
   "source": [
    "## Largest Candidate Rule (LCR)"
   ]
  },
  {
   "cell_type": "code",
   "execution_count": null,
   "metadata": {},
   "outputs": [],
   "source": [
    "tasks_sorted = tasks.sort_values(by='Time', ascending=False).reset_index(drop=True)\n",
    "stations = []\n",
    "current_station = []\n",
    "current_time = 0\n",
    "\n",
    "for _, row in tasks_sorted.iterrows():\n",
    "    if current_time + row['Time'] <= cycle_time:\n",
    "        current_station.append(row['Task'])\n",
    "        current_time += row['Time']\n",
    "    else:\n",
    "        stations.append(current_station)\n",
    "        current_station = [row['Task']]\n",
    "        current_time = row['Time']\n",
    "\n",
    "stations.append(current_station)\n",
    "print('\\n--- LCR Workstation Assignments ---')\n",
    "for i, s in enumerate(stations, 1):\n",
    "    print(f\"Station {i}: {s}\")"
   ]
  },
  {
   "cell_type": "markdown",
   "metadata": {},
   "source": [
    "## Ranked Positional Weight (RPW)"
   ]
  },
  {
   "cell_type": "code",
   "execution_count": null,
   "metadata": {},
   "outputs": [],
   "source": [
    "# Compute positional weights\n",
    "def get_successors(task, preds):\n",
    "    return [t for t, p in preds.items() if p == task]\n",
    "\n",
    "preds = dict(zip(tasks['Task'], tasks['Predecessors']))\n",
    "positional_weight = {}\n",
    "\n",
    "for task in tasks['Task']:\n",
    "    total_time = tasks.loc[tasks['Task'] == task, 'Time'].values[0]\n",
    "    to_check = [task]\n",
    "    while to_check:\n",
    "        current = to_check.pop()\n",
    "        succ = get_successors(current, preds)\n",
    "        for s in succ:\n",
    "            total_time += tasks.loc[tasks['Task'] == s, 'Time'].values[0]\n",
    "            to_check.append(s)\n",
    "    positional_weight[task] = total_time\n",
    "\n",
    "tasks['PositionalWeight'] = tasks['Task'].map(positional_weight)\n",
    "tasks_rpw = tasks.sort_values(by='PositionalWeight', ascending=False)\n",
    "\n",
    "print('\\n--- RPW Order ---')\n",
    "print(tasks_rpw[['Task', 'PositionalWeight']])"
   ]
  }
 ],
 "metadata": {
  "kernelspec": {
   "display_name": "Python 3",
   "language": "python",
   "name": "python3"
  },
  "language_info": {
   "name": "python"
  }
 },
 "nbformat": 4,
 "nbformat_minor": 2
}
