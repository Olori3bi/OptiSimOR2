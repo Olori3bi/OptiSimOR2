{
 "cells": [
  {
   "cell_type": "markdown",
   "metadata": {},
   "source": [
    "# ⏱️ M/M/1 Queue Simulation\n",
    "This notebook simulates a single-server queue where arrival and service times follow exponential distributions."
   ]
  },
  {
   "cell_type": "markdown",
   "metadata": {},
   "source": [
    "## ✅ Step 1: Set Parameters and Generate Times"
   ]
  },
  {
   "cell_type": "code",
   "execution_count": null,
   "metadata": {},
   "outputs": [],
   "source": [
    "import numpy as np\n",
    "import matplotlib.pyplot as plt\n",
    "\n",
    "# Parameters\n",
    "lam = 2.0   # Arrival rate λ\n",
    "mu = 3.0    # Service rate μ\n",
    "n_customers = 30\n",
    "\n",
    "# Generate interarrival and service times\n",
    "np.random.seed(42)\n",
    "inter_arrival_times = np.random.exponential(1/lam, n_customers)\n",
    "service_times = np.random.exponential(1/mu, n_customers)"
   ]
  },
  {
   "cell_type": "markdown",
   "metadata": {},
   "source": [
    "## 🔄 Step 2: Simulate Queue Times"
   ]
  },
  {
   "cell_type": "code",
   "execution_count": null,
   "metadata": {},
   "outputs": [],
   "source": [
    "arrival_times = np.cumsum(inter_arrival_times)\n",
    "start_times = np.zeros(n_customers)\n",
    "end_times = np.zeros(n_customers)\n",
    "\n",
    "for i in range(n_customers):\n",
    "    if i == 0:\n",
    "        start_times[i] = arrival_times[i]\n",
    "    else:\n",
    "        start_times[i] = max(arrival_times[i], end_times[i-1])\n",
    "    end_times[i] = start_times[i] + service_times[i]\n",
    "\n",
    "waiting_times = start_times - arrival_times\n",
    "total_times = end_times - arrival_times\n",
    "\n",
    "print(f\"Average waiting time: {np.mean(waiting_times):.2f} mins\")\n",
    "print(f\"Average time in system: {np.mean(total_times):.2f} mins\")"
   ]
  },
  {
   "cell_type": "markdown",
   "metadata": {},
   "source": [
    "## 📊 Step 3: Plot Queue Timeline"
   ]
  },
  {
   "cell_type": "code",
   "execution_count": null,
   "metadata": {},
   "outputs": [],
   "source": [
    "fig, ax = plt.subplots(figsize=(12, 4))\n",
    "for i in range(n_customers):\n",
    "    ax.barh(i, end_times[i]-start_times[i], left=start_times[i], color='skyblue')\n",
    "    ax.barh(i, start_times[i]-arrival_times[i], left=arrival_times[i], color='orange')\n",
    "\n",
    "ax.set_xlabel(\"Time\")\n",
    "ax.set_ylabel(\"Customer\")\n",
    "ax.set_title(\"M/M/1 Queue: Orange = Waiting | Blue = Service\")\n",
    "plt.grid(True, axis='x')\n",
    "plt.tight_layout()\n",
    "plt.show()"
   ]
  }
 ],
 "metadata": {
  "kernelspec": {
   "display_name": "Python 3",
   "language": "python",
   "name": "python3"
  },
  "language_info": {
   "name": "python"
  }
 },
 "nbformat": 4,
 "nbformat_minor": 2
}
