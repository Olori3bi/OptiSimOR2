{
 "cells": [
  {
   "cell_type": "markdown",
   "metadata": {},
   "source": [
    "# 🧮 Linear Programming Examples\n",
    "This notebook demonstrates solving LP problems using graphical and simplex methods in Python."
   ]
  },
  {
   "cell_type": "markdown",
   "metadata": {},
   "source": [
    "## ✳️ Graphical Method (2 Variables)"
   ]
  },
  {
   "cell_type": "code",
   "execution_count": null,
   "metadata": {},
   "outputs": [],
   "source": [
    "import matplotlib.pyplot as plt\n",
    "import numpy as np\n",
    "\n",
    "# Constraints:\n",
    "# x + y <= 6\n",
    "# x + 2y <= 8\n",
    "# x >= 0, y >= 0\n",
    "\n",
    "x = np.linspace(0, 10, 400)\n",
    "y1 = 6 - x\n",
    "y2 = (8 - x) / 2\n",
    "\n",
    "plt.figure(figsize=(8,6))\n",
    "plt.plot(x, y1, label='x + y <= 6')\n",
    "plt.plot(x, y2, label='x + 2y <= 8')\n",
    "plt.xlim((0, 10))\n",
    "plt.ylim((0, 10))\n",
    "plt.fill_between(x, 0, np.minimum(y1, y2), alpha=0.3)\n",
    "\n",
    "plt.xlabel('x')\n",
    "plt.ylabel('y')\n",
    "plt.title('Feasible Region')\n",
    "plt.legend()\n",
    "plt.grid(True)\n",
    "plt.show()"
   ]
  },
  {
   "cell_type": "markdown",
   "metadata": {},
   "source": [
    "## ⚙️ Simplex Method with `scipy.optimize.linprog`"
   ]
  },
  {
   "cell_type": "code",
   "execution_count": null,
   "metadata": {},
   "outputs": [],
   "source": [
    "from scipy.optimize import linprog\n",
    "\n",
    "# Maximize Z = 3x + 5y\n",
    "# Subject to:\n",
    "# x + y <= 6\n",
    "# x + 2y <= 8\n",
    "# x, y >= 0\n",
    "\n",
    "c = [-3, -5]  # Negative for maximization\n",
    "A = [[1, 1], [1, 2]]\n",
    "b = [6, 8]\n",
    "x_bounds = (0, None)\n",
    "y_bounds = (0, None)\n",
    "\n",
    "res = linprog(c, A_ub=A, b_ub=b, bounds=[x_bounds, y_bounds], method='highs')\n",
    "\n",
    "print(\"Optimal Value:\", -res.fun)\n",
    "print(\"Optimal Solution (x, y):\", res.x)"
   ]
  }
 ],
 "metadata": {
  "kernelspec": {
   "display_name": "Python 3",
   "language": "python",
   "name": "python3"
  },
  "language_info": {
   "name": "python",
   "version": ""
  }
 },
 "nbformat": 4,
 "nbformat_minor": 2
}
