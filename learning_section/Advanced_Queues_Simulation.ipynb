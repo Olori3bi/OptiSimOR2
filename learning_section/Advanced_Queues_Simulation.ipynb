{
 "cells": [
  {
   "cell_type": "markdown",
   "metadata": {},
   "source": [
    "# 🔄 Advanced Queues Simulation\n",
    "This notebook simulates three advanced queuing models:\n",
    "1. **M/M/c/K** (finite capacity)\n",
    "2. **M/M/Infinity** (infinite servers)\n",
    "3. **Priority Queue** (two classes, preemptive)"
   ]
  },
  {
   "cell_type": "markdown",
   "metadata": {},
   "source": [
    "## 1️⃣ M/M/c/K Queue Simulation"
   ]
  },
  {
   "cell_type": "code",
   "execution_count": null,
   "metadata": {},
   "outputs": [],
   "source": [
    "import numpy as np\n",
    "import matplotlib.pyplot as plt\n",
    "\n",
    "# Parameters\n",
    "lam = 4.0  # arrival rate\n",
    "mu = 3.0   # service rate per server\n",
    "c = 2      # servers\n",
    "K = 5      # capacity (including servers)\n",
    "n_customers = 50\n",
    "\n",
    "np.random.seed(1)\n",
    "\n",
    "# Simulation variables\n",
    "arrival_times = np.cumsum(np.random.exponential(1/lam, n_customers))\n",
    "service_times = np.random.exponential(1/mu, n_customers)\n",
    "\n",
    "queue = []\n",
    "server_end_times = np.zeros(c)\n",
    "start_times = []\n",
    "end_times = []\n",
    "blocked = 0\n",
    "\n",
    "for i in range(n_customers):\n",
    "    # Remove finished services from queue\n",
    "    queue = [q for q in queue if q > arrival_times[i]]\n",
    "    \n",
    "    # Check capacity\n",
    "    if len(queue) >= K:\n",
    "        blocked += 1\n",
    "        start_times.append(None)\n",
    "        end_times.append(None)\n",
    "        continue\n",
    "    \n",
    "    server_idx = np.argmin(server_end_times)\n",
    "    start = max(arrival_times[i], server_end_times[server_idx])\n",
    "    end = start + service_times[i]\n",
    "    start_times.append(start)\n",
    "    end_times.append(end)\n",
    "    server_end_times[server_idx] = end\n",
    "    queue.append(end)\n",
    "\n",
    "print(f\"Blocked customers: {blocked}\")"
   ]
  },
  {
   "cell_type": "markdown",
   "metadata": {},
   "source": [
    "## 2️⃣ M/M/Infinity Queue Simulation"
   ]
  },
  {
   "cell_type": "code",
   "execution_count": null,
   "metadata": {},
   "outputs": [],
   "source": [
    "# Parameters\n",
    "lam = 5.0\n",
    "mu = 2.0\n",
    "n_customers = 30\n",
    "\n",
    "np.random.seed(2)\n",
    "arrival_times_inf = np.cumsum(np.random.exponential(1/lam, n_customers))\n",
    "service_times_inf = np.random.exponential(1/mu, n_customers)\n",
    "end_times_inf = arrival_times_inf + service_times_inf\n",
    "\n",
    "print(\"No queueing occurs; all arrivals are served immediately.\")\n",
    "print(f\"Average service time: {np.mean(service_times_inf):.2f}\")"
   ]
  },
  {
   "cell_type": "markdown",
   "metadata": {},
   "source": [
    "## 3️⃣ Priority Queue Simulation (Preemptive)"
   ]
  },
  {
   "cell_type": "code",
   "execution_count": null,
   "metadata": {},
   "outputs": [],
   "source": [
    "# Parameters\n",
    "lam_high = 2.0\n",
    "lam_low = 2.0\n",
    "mu = 3.0\n",
    "n_high = 10\n",
    "n_low = 10\n",
    "\n",
    "np.random.seed(3)\n",
    "\n",
    "# Generate arrival and service times\n",
    "arrival_high = np.cumsum(np.random.exponential(1/lam_high, n_high))\n",
    "arrival_low = np.cumsum(np.random.exponential(1/lam_low, n_low))\n",
    "\n",
    "service_high = np.random.exponential(1/mu, n_high)\n",
    "service_low = np.random.exponential(1/mu, n_low)\n",
    "\n",
    "# Merge and simulate preemptive priority\n",
    "events = []\n",
    "for i in range(n_high):\n",
    "    events.append((arrival_high[i], 'H', service_high[i]))\n",
    "for i in range(n_low):\n",
    "    events.append((arrival_low[i], 'L', service_low[i]))\n",
    "events.sort(key=lambda x: x[0])\n",
    "\n",
    "current_time = 0\n",
    "for arrival, priority, service in events:\n",
    "    if priority == 'H':\n",
    "        current_time = max(current_time, arrival) + service\n",
    "    else:\n",
    "        if any(e[1] == 'H' and e[0] >= arrival and e[0] < arrival + service for e in events):\n",
    "            # Preempted by high priority arrival\n",
    "            continue\n",
    "        else:\n",
    "            current_time = max(current_time, arrival) + service\n",
    "\n",
    "print(\"Priority queue simulated with preemptive policy.\")"
   ]
  }
 ],
 "metadata": {
  "kernelspec": {
   "display_name": "Python 3",
   "language": "python",
   "name": "python3"
  },
  "language_info": {
   "name": "python"
  }
 },
 "nbformat": 4,
 "nbformat_minor": 2
}
