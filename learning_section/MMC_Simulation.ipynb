{
 "cells": [
  {
   "cell_type": "markdown",
   "metadata": {},
   "source": [
    "# ⏱️ M/M/c Multi-Server Queue Simulation\n",
    "This notebook simulates an M/M/c queue with Poisson arrivals and exponential service times for c servers."
   ]
  },
  {
   "cell_type": "markdown",
   "metadata": {},
   "source": [
    "## ✅ Step 1: Parameters and Setup"
   ]
  },
  {
   "cell_type": "code",
   "execution_count": null,
   "metadata": {},
   "outputs": [],
   "source": [
    "import numpy as np\n",
    "import matplotlib.pyplot as plt\n",
    "\n",
    "# Parameters\n",
    "lam = 4.0  # Arrival rate λ\n",
    "mu = 3.0   # Service rate μ per server\n",
    "c = 2      # Number of servers\n",
    "n_customers = 40\n",
    "\n",
    "np.random.seed(42)\n",
    "\n",
    "# Generate interarrival and service times\n",
    "inter_arrival_times = np.random.exponential(1/lam, n_customers)\n",
    "service_times = np.random.exponential(1/mu, n_customers)"
   ]
  },
  {
   "cell_type": "markdown",
   "metadata": {},
   "source": [
    "## 🔄 Step 2: Simulation Logic"
   ]
  },
  {
   "cell_type": "code",
   "execution_count": null,
   "metadata": {},
   "outputs": [],
   "source": [
    "arrival_times = np.cumsum(inter_arrival_times)\n",
    "start_times = np.zeros(n_customers)\n",
    "end_times = np.zeros(n_customers)\n",
    "\n",
    "# Track when each server becomes free\n",
    "server_available_time = np.zeros(c)\n",
    "\n",
    "for i in range(n_customers):\n",
    "    # Assign the next available server\n",
    "    server_idx = np.argmin(server_available_time)\n",
    "    start_times[i] = max(arrival_times[i], server_available_time[server_idx])\n",
    "    end_times[i] = start_times[i] + service_times[i]\n",
    "    server_available_time[server_idx] = end_times[i]\n",
    "\n",
    "waiting_times = start_times - arrival_times\n",
    "total_times = end_times - arrival_times\n",
    "\n",
    "print(f\"Average waiting time: {np.mean(waiting_times):.2f} mins\")\n",
    "print(f\"Average time in system: {np.mean(total_times):.2f} mins\")"
   ]
  },
  {
   "cell_type": "markdown",
   "metadata": {},
   "source": [
    "## 📊 Step 3: Visualization"
   ]
  },
  {
   "cell_type": "code",
   "execution_count": null,
   "metadata": {},
   "outputs": [],
   "source": [
    "fig, ax = plt.subplots(figsize=(12, 5))\n",
    "colors = plt.cm.Set3(np.linspace(0, 1, c))\n",
    "\n",
    "server_timeline = np.zeros(n_customers, dtype=int)\n",
    "server_available_time = np.zeros(c)\n",
    "\n",
    "for i in range(n_customers):\n",
    "    server_idx = np.argmin(server_available_time)\n",
    "    server_timeline[i] = server_idx\n",
    "    server_available_time[server_idx] = end_times[i]\n",
    "    ax.barh(server_idx, end_times[i] - start_times[i], left=start_times[i], color=colors[server_idx])\n",
    "    ax.barh(server_idx, start_times[i] - arrival_times[i], left=arrival_times[i], color='orange')\n",
    "\n",
    "ax.set_yticks(range(c))\n",
    "ax.set_yticklabels([f\"Server {i+1}\" for i in range(c)])\n",
    "ax.set_xlabel(\"Time\")\n",
    "ax.set_title(\"M/M/c Queue: Orange = Waiting | Colored Bars = Service\")\n",
    "plt.grid(True, axis='x')\n",
    "plt.tight_layout()\n",
    "plt.show()"
   ]
  }
 ],
 "metadata": {
  "kernelspec": {
   "display_name": "Python 3",
   "language": "python",
   "name": "python3"
  },
  "language_info": {
   "name": "python"
  }
 },
 "nbformat": 4,
 "nbformat_minor": 2
}
