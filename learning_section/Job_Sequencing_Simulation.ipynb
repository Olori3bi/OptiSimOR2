{
 "cells": [
  {
   "cell_type": "markdown",
   "metadata": {},
   "source": [
    "# 📋 Job Sequencing Simulation\n",
    "Johnson's Rule for 2 and 3 machines"
   ]
  },
  {
   "cell_type": "code",
   "execution_count": null,
   "metadata": {},
   "outputs": [],
   "source": [
    "import pandas as pd\n",
    "\n",
    "# Example jobs with processing times\n",
    "jobs = pd.DataFrame({\n",
    "    'Job': ['J1', 'J2', 'J3', 'J4', 'J5'],\n",
    "    'M1': [4, 7, 5, 8, 6],\n",
    "    'M2': [6, 3, 7, 2, 5]\n",
    "})\n",
    "\n",
    "print('--- Jobs Data ---')\n",
    "print(jobs)"
   ]
  },
  {
   "cell_type": "markdown",
   "metadata": {},
   "source": [
    "## Johnson's Rule for 2 Machines"
   ]
  },
  {
   "cell_type": "code",
   "execution_count": null,
   "metadata": {},
   "outputs": [],
   "source": [
    "sequence = []\n",
    "jobs_list = jobs.copy()\n",
    "\n",
    "while not jobs_list.empty:\n",
    "    min_time = jobs_list[['M1', 'M2']].min().min()\n",
    "    min_job = jobs_list[(jobs_list['M1'] == min_time) | (jobs_list['M2'] == min_time)].iloc[0]\n",
    "    if min_job['M1'] == min_time:\n",
    "        sequence.insert(0, min_job['Job'])\n",
    "    else:\n",
    "        sequence.append(min_job['Job'])\n",
    "    jobs_list = jobs_list[jobs_list['Job'] != min_job['Job']]\n",
    "\n",
    "print('\\n--- Optimal Sequence (2 Machines) ---')\n",
    "print(sequence)"
   ]
  },
  {
   "cell_type": "markdown",
   "metadata": {},
   "source": [
    "## Johnson's Rule for 3 Machines (Convert to 2-Machine Problem)"
   ]
  },
  {
   "cell_type": "code",
   "execution_count": null,
   "metadata": {},
   "outputs": [],
   "source": [
    "# Example jobs for 3 machines\n",
    "jobs3 = pd.DataFrame({\n",
    "    'Job': ['J1', 'J2', 'J3', 'J4', 'J5'],\n",
    "    'M1': [4, 7, 5, 8, 6],\n",
    "    'M2': [6, 3, 7, 2, 5],\n",
    "    'M3': [5, 6, 4, 3, 7]\n",
    "})\n",
    "\n",
    "# Transform times\n",
    "jobs3['M1p'] = jobs3['M1'] + jobs3['M2']\n",
    "jobs3['M2p'] = jobs3['M2'] + jobs3['M3']\n",
    "\n",
    "# Apply Johnson's Rule to transformed data\n",
    "sequence3 = []\n",
    "jobs_list3 = jobs3.copy()\n",
    "\n",
    "while not jobs_list3.empty:\n",
    "    min_time = jobs_list3[['M1p', 'M2p']].min().min()\n",
    "    min_job = jobs_list3[(jobs_list3['M1p'] == min_time) | (jobs_list3['M2p'] == min_time)].iloc[0]\n",
    "    if min_job['M1p'] == min_time:\n",
    "        sequence3.insert(0, min_job['Job'])\n",
    "    else:\n",
    "        sequence3.append(min_job['Job'])\n",
    "    jobs_list3 = jobs_list3[jobs_list3['Job'] != min_job['Job']]\n",
    "\n",
    "print('\\n--- Optimal Sequence (3 Machines) ---')\n",
    "print(sequence3)"
   ]
  }
 ],
 "metadata": {
  "kernelspec": {
   "display_name": "Python 3",
   "language": "python",
   "name": "python3"
  },
  "language_info": {
   "name": "python"
  }
 },
 "nbformat": 4,
 "nbformat_minor": 2
}
