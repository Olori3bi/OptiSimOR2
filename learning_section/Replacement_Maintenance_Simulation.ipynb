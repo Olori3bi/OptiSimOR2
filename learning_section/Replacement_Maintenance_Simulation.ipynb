{
 "cells": [
  {
   "cell_type": "markdown",
   "metadata": {},
   "source": [
    "# 🔧 Replacement & Maintenance Simulation\n",
    "Simulates individual replacement, group replacement, and preventive maintenance."
   ]
  },
  {
   "cell_type": "code",
   "execution_count": null,
   "metadata": {},
   "outputs": [],
   "source": [
    "import numpy as np\n",
    "\n",
    "# Parameters\n",
    "n_items = 100\n",
    "mean_life = 12       # months\n",
    "cost_failure = 500   # per failure\n",
    "cost_group = 3000    # cost to replace all at once\n",
    "group_interval = 12  # months\n",
    "pm_interval = 6      # months\n",
    "cost_pm = 50         # per item per PM event\n",
    "\n",
    "np.random.seed(42)\n",
    "\n",
    "# Generate failure times (exponential distribution)\n",
    "failures = np.random.exponential(mean_life, n_items)\n",
    "\n",
    "# Individual Replacement Policy\n",
    "cost_individual = np.sum(failures < group_interval) * cost_failure\n",
    "\n",
    "# Group Replacement Policy\n",
    "failures_before_group = np.sum(failures < group_interval)\n",
    "cost_group_policy = (failures_before_group * cost_failure) + cost_group\n",
    "\n",
    "# Preventive Maintenance Policy\n",
    "pm_events = int(12 / pm_interval)\n",
    "cost_pm_policy = (n_items * cost_pm * pm_events) + np.sum(failures < pm_interval) * cost_failure\n",
    "\n",
    "print(f\"Individual Replacement Cost: ${cost_individual}\")\n",
    "print(f\"Group Replacement Cost: ${cost_group_policy}\")\n",
    "print(f\"Preventive Maintenance Cost: ${cost_pm_policy}\")"
   ]
  }
 ],
 "metadata": {
  "kernelspec": {
   "display_name": "Python 3",
   "language": "python",
   "name": "python3"
  },
  "language_info": {
   "name": "python"
  }
 },
 "nbformat": 4,
 "nbformat_minor": 2
}
