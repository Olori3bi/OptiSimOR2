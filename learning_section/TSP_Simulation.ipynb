{
 "cells": [
  {
   "cell_type": "markdown",
   "metadata": {},
   "source": [
    "# 🗺️ Traveling Salesman Problem (TSP) Simulation\n",
    "Solving TSP with Nearest Neighbor heuristic and Brute Force (for small n)."
   ]
  },
  {
   "cell_type": "code",
   "execution_count": null,
   "metadata": {},
   "outputs": [],
   "source": [
    "import numpy as np\n",
    "import itertools\n",
    "\n",
    "# Parameters\n",
    "n_cities = 6\n",
    "np.random.seed(42)\n",
    "cities = np.random.rand(n_cities, 2) * 100  # random coordinates\n",
    "\n",
    "# Distance matrix\n",
    "dist_matrix = np.zeros((n_cities, n_cities))\n",
    "for i in range(n_cities):\n",
    "    for j in range(n_cities):\n",
    "        dist_matrix[i, j] = np.linalg.norm(cities[i] - cities[j])\n",
    "\n",
    "print('--- City Coordinates ---')\n",
    "print(cities)"
   ]
  },
  {
   "cell_type": "markdown",
   "metadata": {},
   "source": [
    "## Nearest Neighbor Heuristic"
   ]
  },
  {
   "cell_type": "code",
   "execution_count": null,
   "metadata": {},
   "outputs": [],
   "source": [
    "def nearest_neighbor(start, dist_matrix):\n",
    "    n = len(dist_matrix)\n",
    "    visited = [start]\n",
    "    total_distance = 0\n",
    "    current = start\n",
    "    while len(visited) < n:\n",
    "        next_city = min([i for i in range(n) if i not in visited], key=lambda x: dist_matrix[current][x])\n",
    "        total_distance += dist_matrix[current][next_city]\n",
    "        visited.append(next_city)\n",
    "        current = next_city\n",
    "    total_distance += dist_matrix[current][start]\n",
    "    visited.append(start)\n",
    "    return visited, total_distance\n",
    "\n",
    "tour, dist_nn = nearest_neighbor(0, dist_matrix)\n",
    "print('\\nNearest Neighbor Tour:', tour)\n",
    "print('Total Distance (NN):', dist_nn)"
   ]
  },
  {
   "cell_type": "markdown",
   "metadata": {},
   "source": [
    "## Brute Force Search (Only for small n)"
   ]
  },
  {
   "cell_type": "code",
   "execution_count": null,
   "metadata": {},
   "outputs": [],
   "source": [
    "def brute_force_tsp(dist_matrix):\n",
    "    n = len(dist_matrix)\n",
    "    cities = list(range(n))\n",
    "    min_tour = None\n",
    "    min_dist = float('inf')\n",
    "    for perm in itertools.permutations(cities[1:]):\n",
    "        tour = [0] + list(perm) + [0]\n",
    "        dist = sum(dist_matrix[tour[i]][tour[i+1]] for i in range(len(tour)-1))\n",
    "        if dist < min_dist:\n",
    "            min_dist = dist\n",
    "            min_tour = tour\n",
    "    return min_tour, min_dist\n",
    "\n",
    "tour_bf, dist_bf = brute_force_tsp(dist_matrix)\n",
    "print('\\nBrute Force Tour:', tour_bf)\n",
    "print('Total Distance (Brute Force):', dist_bf)"
   ]
  }
 ],
 "metadata": {
  "kernelspec": {
   "display_name": "Python 3",
   "language": "python",
   "name": "python3"
  },
  "language_info": {
   "name": "python"
  }
 },
 "nbformat": 4,
 "nbformat_minor": 2
}
