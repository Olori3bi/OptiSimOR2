{
 "cells": [
  {
   "cell_type": "markdown",
   "metadata": {},
   "source": [
    "# ⏱️ Continuous-Time Markov Chain Simulation\n",
    "This notebook simulates a CTMC using exponential holding times and a Q-matrix for transitions."
   ]
  },
  {
   "cell_type": "markdown",
   "metadata": {},
   "source": [
    "## ✅ Step 1: Define States and Q Matrix"
   ]
  },
  {
   "cell_type": "code",
   "execution_count": null,
   "metadata": {},
   "outputs": [],
   "source": [
    "import numpy as np\n",
    "import matplotlib.pyplot as plt\n",
    "\n",
    "states = ['Working', 'Repairing']\n",
    "Q = np.array([\n",
    "    [-0.5, 0.5],  # Working → Repairing\n",
    "    [1.0, -1.0]   # Repairing → Working\n",
    "])\n",
    "\n",
    "print(\"Q Matrix (Transition Rates):\")\n",
    "print(Q)"
   ]
  },
  {
   "cell_type": "markdown",
   "metadata": {},
   "source": [
    "## 🔄 Step 2: Simulate the CTMC for 20 events"
   ]
  },
  {
   "cell_type": "code",
   "execution_count": null,
   "metadata": {},
   "outputs": [],
   "source": [
    "np.random.seed(1)\n",
    "n_steps = 20\n",
    "times = [0]\n",
    "states_list = [0]\n",
    "current_state = 0\n",
    "\n",
    "for _ in range(n_steps):\n",
    "    rate = -Q[current_state, current_state]\n",
    "    holding_time = np.random.exponential(1/rate)\n",
    "    next_time = times[-1] + holding_time\n",
    "\n",
    "    probs = Q[current_state].copy()\n",
    "    probs[current_state] = 0\n",
    "    probs = probs / probs.sum()\n",
    "    next_state = np.random.choice([0,1], p=probs)\n",
    "\n",
    "    times.append(next_time)\n",
    "    states_list.append(next_state)\n",
    "    current_state = next_state\n",
    "\n",
    "print(\"Times:\", times)\n",
    "print(\"States:\", [states[s] for s in states_list])"
   ]
  },
  {
   "cell_type": "markdown",
   "metadata": {},
   "source": [
    "## 📊 Step 3: Plot the CTMC Timeline"
   ]
  },
  {
   "cell_type": "code",
   "execution_count": null,
   "metadata": {},
   "outputs": [],
   "source": [
    "fig, ax = plt.subplots(figsize=(10, 2))\n",
    "for i in range(len(times) - 1):\n",
    "    ax.hlines(1, times[i], times[i+1], colors='blue' if states_list[i] == 0 else 'red', lw=6)\n",
    "    ax.text((times[i] + times[i+1])/2, 1.05, states[states_list[i]], ha='center')\n",
    "\n",
    "ax.set_ylim(0.8, 1.2)\n",
    "ax.set_yticks([])\n",
    "ax.set_title(\"CTMC State Timeline\")\n",
    "ax.set_xlabel(\"Time\")\n",
    "plt.grid(True, axis='x')\n",
    "plt.show()"
   ]
  }
 ],
 "metadata": {
  "kernelspec": {
   "display_name": "Python 3",
   "language": "python",
   "name": "python3"
  },
  "language_info": {
   "name": "python",
   "version": ""
  }
 },
 "nbformat": 4,
 "nbformat_minor": 2
}
