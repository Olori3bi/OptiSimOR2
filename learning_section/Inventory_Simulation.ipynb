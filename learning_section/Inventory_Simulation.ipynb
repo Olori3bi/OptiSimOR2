{
 "cells": [
  {
   "cell_type": "markdown",
   "metadata": {},
   "source": [
    "# 📦 Inventory Simulation Models\n",
    "This notebook covers:\n",
    "1. Economic Order Quantity (EOQ)\n",
    "2. Reorder Point (ROP) with Safety Stock\n",
    "3. Stochastic Demand Simulation using Monte Carlo"
   ]
  },
  {
   "cell_type": "markdown",
   "metadata": {},
   "source": [
    "## 1️⃣ EOQ Calculation"
   ]
  },
  {
   "cell_type": "code",
   "execution_count": null,
   "metadata": {},
   "outputs": [],
   "source": [
    "import numpy as np\n",
    "\n",
    "# Parameters\n",
    "D = 10000    # Annual demand units\n",
    "Co = 50      # Ordering cost per order\n",
    "Ch = 2       # Holding cost per unit per year\n",
    "\n",
    "EOQ = np.sqrt((2 * D * Co) / Ch)\n",
    "print(f\"Economic Order Quantity (EOQ): {EOQ:.2f} units\")"
   ]
  },
  {
   "cell_type": "markdown",
   "metadata": {},
   "source": [
    "## 2️⃣ Reorder Point (ROP) with Safety Stock"
   ]
  },
  {
   "cell_type": "code",
   "execution_count": null,
   "metadata": {},
   "outputs": [],
   "source": [
    "# Parameters\n",
    "daily_demand = 40  # units/day\n",
    "lead_time = 5      # days\n",
    "sigma_demand = 5   # std dev of daily demand\n",
    "Z = 1.65           # Service level factor (95%)\n",
    "\n",
    "safety_stock = Z * sigma_demand * np.sqrt(lead_time)\n",
    "ROP = (daily_demand * lead_time) + safety_stock\n",
    "\n",
    "print(f\"Safety Stock: {safety_stock:.2f} units\")\n",
    "print(f\"Reorder Point (ROP): {ROP:.2f} units\")"
   ]
  },
  {
   "cell_type": "markdown",
   "metadata": {},
   "source": [
    "## 3️⃣ Monte Carlo Simulation for Stochastic Demand"
   ]
  },
  {
   "cell_type": "code",
   "execution_count": null,
   "metadata": {},
   "outputs": [],
   "source": [
    "np.random.seed(42)\n",
    "sim_days = 365\n",
    "inventory_level = 500\n",
    "ROP = 230  # reorder point from above\n",
    "order_qty = 300\n",
    "lead_time = 5\n",
    "\n",
    "on_order = 0\n",
    "lead_time_remaining = 0\n",
    "stockouts = 0\n",
    "\n",
    "daily_demand_series = np.random.normal(40, 5, sim_days)\n",
    "\n",
    "for day in range(sim_days):\n",
    "    demand = max(0, int(daily_demand_series[day]))\n",
    "    if demand > inventory_level:\n",
    "        stockouts += demand - inventory_level\n",
    "        inventory_level = 0\n",
    "    else:\n",
    "        inventory_level -= demand\n",
    "    \n",
    "    if on_order > 0:\n",
    "        lead_time_remaining -= 1\n",
    "        if lead_time_remaining <= 0:\n",
    "            inventory_level += on_order\n",
    "            on_order = 0\n",
    "    \n",
    "    if inventory_level <= ROP and on_order == 0:\n",
    "        on_order = order_qty\n",
    "        lead_time_remaining = lead_time\n",
    "\n",
    "print(f\"Total stockouts: {stockouts} units/year\")"
   ]
  }
 ],
 "metadata": {
  "kernelspec": {
   "display_name": "Python 3",
   "language": "python",
   "name": "python3"
  },
  "language_info": {
   "name": "python"
  }
 },
 "nbformat": 4,
 "nbformat_minor": 2
}
